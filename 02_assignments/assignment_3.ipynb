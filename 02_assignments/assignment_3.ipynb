{
 "cells": [
  {
   "cell_type": "markdown",
   "id": "7b0bcac6-5086-4f4e-928a-570a9ff7ae58",
   "metadata": {},
   "source": [
    "# Assignment 3"
   ]
  },
  {
   "cell_type": "markdown",
   "id": "5fce0350-2a17-4e93-8d4c-0b8748fdfc32",
   "metadata": {},
   "source": [
    "As before, if a question can be answered with 'yes/no', or a numeric value, you may simply state as much. If you incorporate code from the internet (which is not required and generally not advisable), please cite the source within your code (providing a URL is sufficient).\n",
    "\n",
    "We will go through comparable code and concepts in the live learning session. If you run into trouble, start by using the help `help()` function in Python, to get information about the datasets and function in question. The internet is also a great resource when coding (though note that no outside searches are required by the assignment!). If you do incorporate code from the internet, please cite the source within your code (providing a URL is sufficient).\n",
    "\n",
    "Please bring questions that you cannot work out on your own to office hours, work periods or share with your peers on Slack. We will work with you through the issue."
   ]
  },
  {
   "cell_type": "code",
   "execution_count": 1,
   "id": "b92f7c91",
   "metadata": {},
   "outputs": [],
   "source": [
    "import numpy as np\n",
    "import pandas as pd\n",
    "import matplotlib.pyplot as plt\n",
    "import statsmodels.api as sm"
   ]
  },
  {
   "cell_type": "markdown",
   "id": "d7fff1dd-e4ce-4a60-96a0-d08136e9bf5e",
   "metadata": {},
   "source": [
    "### Question 1: Resampling via Bootstrapping\n",
    "\n",
    "Now, we'll use the `iris` dataset, which we will add to Python using the `statsmodels` library. As always, start by reviewing a description of the dataset, by printing the dataset."
   ]
  },
  {
   "cell_type": "code",
   "execution_count": 6,
   "id": "47f4dcf5-0d4c-41ea-892d-d9f2c1aa1859",
   "metadata": {},
   "outputs": [
    {
     "name": "stdout",
     "output_type": "stream",
     "text": [
      "     Sepal.Length  Sepal.Width  Petal.Length  Petal.Width    Species\n",
      "0             5.1          3.5           1.4          0.2     setosa\n",
      "1             4.9          3.0           1.4          0.2     setosa\n",
      "2             4.7          3.2           1.3          0.2     setosa\n",
      "3             4.6          3.1           1.5          0.2     setosa\n",
      "4             5.0          3.6           1.4          0.2     setosa\n",
      "..            ...          ...           ...          ...        ...\n",
      "145           6.7          3.0           5.2          2.3  virginica\n",
      "146           6.3          2.5           5.0          1.9  virginica\n",
      "147           6.5          3.0           5.2          2.0  virginica\n",
      "148           6.2          3.4           5.4          2.3  virginica\n",
      "149           5.9          3.0           5.1          1.8  virginica\n",
      "\n",
      "[150 rows x 5 columns]\n"
     ]
    }
   ],
   "source": [
    "# Import\n",
    "iris = sm.datasets.get_rdataset('iris', 'datasets')\n",
    "df = pd.DataFrame(iris.data)\n",
    "print(df)"
   ]
  },
  {
   "cell_type": "markdown",
   "id": "7717a32c",
   "metadata": {},
   "source": [
    "_(i)_ Create an `alpha_func(D, idx)` function which takes the `Sepal`'s `width` and `length` to calculate for alpha"
   ]
  },
  {
   "cell_type": "code",
   "execution_count": 3,
   "id": "f3da5483",
   "metadata": {},
   "outputs": [
    {
     "name": "stdout",
     "output_type": "stream",
     "text": [
      "     Sepal.Length  Sepal.Width  Petal.Length  Petal.Width    Species\n",
      "0             5.1          3.5           1.4          0.2     setosa\n",
      "1             4.9          3.0           1.4          0.2     setosa\n",
      "2             4.7          3.2           1.3          0.2     setosa\n",
      "3             4.6          3.1           1.5          0.2     setosa\n",
      "4             5.0          3.6           1.4          0.2     setosa\n",
      "..            ...          ...           ...          ...        ...\n",
      "145           6.7          3.0           5.2          2.3  virginica\n",
      "146           6.3          2.5           5.0          1.9  virginica\n",
      "147           6.5          3.0           5.2          2.0  virginica\n",
      "148           6.2          3.4           5.4          2.3  virginica\n",
      "149           5.9          3.0           5.1          1.8  virginica\n",
      "\n",
      "[150 rows x 5 columns]\n"
     ]
    }
   ],
   "source": [
    "print(df)"
   ]
  },
  {
   "cell_type": "markdown",
   "id": "ff94d66b",
   "metadata": {},
   "source": [
    "Test the code below"
   ]
  },
  {
   "cell_type": "code",
   "execution_count": 7,
   "id": "eda715cd",
   "metadata": {},
   "outputs": [
    {
     "name": "stdout",
     "output_type": "stream",
     "text": [
      "0.5759643359353188\n"
     ]
    }
   ],
   "source": [
    "# Define alpha_func function\n",
    "def alpha_func(D, idx):\n",
    "    sepal_width = D.loc[idx, 'Sepal.Width']\n",
    "    sepal_length = D.loc[idx, 'Sepal.Length']\n",
    "    alpha = (sepal_width / sepal_length).mean()\n",
    "    return alpha\n",
    "\n",
    "# Test function\n",
    "print(alpha_func(df, range(100)))"
   ]
  },
  {
   "cell_type": "markdown",
   "id": "f338b14e",
   "metadata": {},
   "source": [
    "_(ii)_ Construct a new bootstrap data set and recompute alpha"
   ]
  },
  {
   "cell_type": "code",
   "execution_count": 8,
   "id": "34ee835f",
   "metadata": {},
   "outputs": [
    {
     "name": "stdout",
     "output_type": "stream",
     "text": [
      "0.5634268056860792\n"
     ]
    }
   ],
   "source": [
    "rng = np.random.default_rng(0)\n",
    "print(alpha_func(df, rng.choice(100, 100, replace=True)))"
   ]
  },
  {
   "cell_type": "markdown",
   "id": "056080ff-7aec-41aa-bb61-763b390e4cf2",
   "metadata": {},
   "source": [
    "Imagine we are analysts working for a shipping company. The company wants to know the average length of iris' petals, to inform space allotment on an upcoming shipment. The relevant variable in the dataset is `Sepal.Length`. \n",
    "\n",
    "_(iii)_ Why is it (perhaps) not sufficient to simply calculate the mean of `Sepal.Length`? What more information will preforming a bootstrap provide to us?  \n",
    "\n",
    "Just calculating mean of Sepal.Length give us a point estimate, but it does not give info on variability. Bootstrapping allows to estimate distribution of the mean, giving us insights about variability and confidence intervals.\n",
    "\n",
    "_(iv)_ We can perform bootstrapping in Python by defining a simple function using `boot_SE()` for computing the bootstrap standard error. Remember, because bootstrapping involves randomness, we must first set a seed for reproducibility!"
   ]
  },
  {
   "cell_type": "code",
   "execution_count": 10,
   "id": "77540f76-7747-4dba-8e77-e1ded54af536",
   "metadata": {},
   "outputs": [],
   "source": [
    "# Define boot_SE function\n",
    "def boot_SE(D, alpha_func, B=1000, seed=0):\n",
    "    rng = np.random.default_rng(seed)\n",
    "    boot_samples = []\n",
    "    for _ in range(B):\n",
    "        bootstrap_indices = rng.choice(D.index, D.shape[0], replace=True)\n",
    "        alpha = alpha_func(D, bootstrap_indices)\n",
    "        boot_samples.append(alpha)\n",
    "    return np.std(boot_samples)\n",
    "\n",
    "# Set seed for reproducibility\n",
    "np.random.seed(42)"
   ]
  },
  {
   "cell_type": "markdown",
   "id": "8a543472",
   "metadata": {},
   "source": [
    "_(v)_ Evaluate the accuracy of our alpha estimate with B = 1000"
   ]
  },
  {
   "cell_type": "code",
   "execution_count": 11,
   "id": "9ed41c4e",
   "metadata": {},
   "outputs": [
    {
     "name": "stdout",
     "output_type": "stream",
     "text": [
      "0.009241610037396568\n"
     ]
    }
   ],
   "source": [
    "alpha_SE = boot_SE(df, alpha_func, B=1000, seed=0)\n",
    "print(alpha_SE)"
   ]
  },
  {
   "cell_type": "markdown",
   "id": "2e5e0c7f",
   "metadata": {},
   "source": [
    "_(vi)_ What is the original mean value of `Sepal.Length`?"
   ]
  },
  {
   "cell_type": "code",
   "execution_count": 12,
   "id": "7c9d5004",
   "metadata": {},
   "outputs": [
    {
     "name": "stdout",
     "output_type": "stream",
     "text": [
      "Original mean value of Sepal.Length: 5.843333333333334\n"
     ]
    }
   ],
   "source": [
    "# Calculate original mean value of Sepal.Length\n",
    "original_mean_sepal_length = df['Sepal.Length'].mean()\n",
    "print(f'Original mean value of Sepal.Length: {original_mean_sepal_length}')"
   ]
  },
  {
   "cell_type": "markdown",
   "id": "785fe758-f395-40b6-a9a3-28ec2efeba29",
   "metadata": {},
   "source": [
    "Next, let's create a new bootstrapping to bootstrap samples (`boot_se_samples`) of `Sepal.Length`, in order to compute its bootstrapped mean and standard deviation.\n",
    "\n",
    "_(vii)_. Write code to review the bootstrapped mean value, and the standard deviation of the bootstrapped samples. Compare the mean against its original value. Then, review the bootstrapped range, by using `t_range = np.ptp(boot_se_samples)`."
   ]
  },
  {
   "cell_type": "code",
   "execution_count": 16,
   "id": "7686243c",
   "metadata": {},
   "outputs": [
    {
     "name": "stdout",
     "output_type": "stream",
     "text": [
      "Bootstrapped mean value of Sepal.Length: 5.842439333333334\n",
      "Bootstrapped standard deviation of Sepal.Length: 0.06857039851452906\n",
      "Bootstrapped range of Sepal.Length: 0.44266666666666765\n",
      "Original mean vs Bootstrapped mean: 5.843333333333334 vs 5.842439333333334\n"
     ]
    }
   ],
   "source": [
    "# Define bootstrapping function for Sepal.Length\n",
    "def bootstrap_samples(data, n_samples=1000, seed=0):\n",
    "    rng = np.random.default_rng(seed)\n",
    "    samples = [data.sample(frac=1, replace=True).mean() for _ in range(n_samples)]\n",
    "    return samples\n",
    "\n",
    "# Create bootstrapped samples\n",
    "boot_se_samples = bootstrap_samples(df['Sepal.Length'], n_samples=1000, seed=0)\n",
    "\n",
    "# Calculate mean and standard deviation of bootstrapped samples\n",
    "bootstrapped_mean = np.mean(boot_se_samples)\n",
    "bootstrapped_std = np.std(boot_se_samples, ddof=1)\n",
    "\n",
    "print(f'Bootstrapped mean value of Sepal.Length: {bootstrapped_mean}')\n",
    "print(f'Bootstrapped standard deviation of Sepal.Length: {bootstrapped_std}')\n",
    "\n",
    "# Calculate range of the bootstrapped samples\n",
    "t_range = np.ptp(boot_se_samples)\n",
    "\n",
    "print(f'Bootstrapped range of Sepal.Length: {t_range}')\n",
    "print(f'Original mean vs Bootstrapped mean: {original_mean_sepal_length} vs {bootstrapped_mean}')"
   ]
  },
  {
   "cell_type": "markdown",
   "id": "66c6c663-f3bb-4a15-8896-6dccfb7259fd",
   "metadata": {},
   "source": [
    "_(viii)_ Next, let's compute 95% confidence intervals, for the mean value of iris sepal length. (Hint: use the `np.percentile` function)"
   ]
  },
  {
   "cell_type": "code",
   "execution_count": 14,
   "id": "74de4a76-e500-4c93-82a9-e7365cc86c91",
   "metadata": {},
   "outputs": [
    {
     "name": "stdout",
     "output_type": "stream",
     "text": [
      "95% confidence interval for the mean value of Sepal.Length: (5.710633333333334, 5.972683333333333)\n"
     ]
    }
   ],
   "source": [
    "# Compute 95% confidence intervals for bootstrapped mean values\n",
    "ci_lower = np.percentile(boot_se_samples, 2.5)\n",
    "ci_upper = np.percentile(boot_se_samples, 97.5)\n",
    "\n",
    "print(f'95% confidence interval for the mean value of Sepal.Length: ({ci_lower}, {ci_upper})')"
   ]
  },
  {
   "cell_type": "markdown",
   "id": "488e54f7-ebe4-4740-835c-9832320005d0",
   "metadata": {},
   "source": [
    "_(ix)_. Use the plot function to create an histogram of the bootstrapped samples. What does this histogram show ?"
   ]
  },
  {
   "cell_type": "code",
   "execution_count": 15,
   "id": "4fca4e3f",
   "metadata": {},
   "outputs": [
    {
     "data": {
      "image/png": "[encoded data removed]",
      "text/plain": [
       "<Figure size 640x480 with 1 Axes>"
      ]
     },
     "metadata": {},
     "output_type": "display_data"
    }
   ],
   "source": [
    "# Create figure and axis\n",
    "fig, ax = plt.subplots()\n",
    "\n",
    "# Create histogram\n",
    "ax.hist(boot_se_samples, bins=30, edgecolor='black')\n",
    "\n",
    "# Add title\n",
    "ax.set_title('Histogram of Bootstrapped Means of Sepal.Length')\n",
    "\n",
    "# Add label to the x-axis\n",
    "ax.set_xlabel('Bootstrapped Mean of Sepal.Length')\n",
    "\n",
    "# Add label to the y-axis\n",
    "ax.set_ylabel('Frequency')\n",
    "\n",
    "# Add vertical lines for original mean and confidence intervals\n",
    "ax.axvline(original_mean_sepal_length, color='red', linestyle='dashed', linewidth=1, label='Original Mean')\n",
    "ax.axvline(ci_lower, color='blue', linestyle='dashed', linewidth=1, label='95% CI Lower Bound')\n",
    "ax.axvline(ci_upper, color='blue', linestyle='dashed', linewidth=1, label='95% CI Upper Bound')\n",
    "\n",
    "# Add legend\n",
    "ax.legend()\n",
    "\n",
    "# Show plot\n",
    "plt.show()"
   ]
  },
  {
   "cell_type": "markdown",
   "id": "bfa9a095-9c7a-4ab5-aa99-b11bf419fae0",
   "metadata": {},
   "source": [
    "_(x)_ Given your bootstrapped analysis, what do you recommend to shipping company? "
   ]
  },
  {
   "cell_type": "markdown",
   "id": "5e83202e-4aab-44bb-8586-5d0e82e9e201",
   "metadata": {},
   "source": [
    "1). The average sepal length is around 5.84 cm. This value is quite reliable because we did a lot of resampling, so it's good to use for planning how much space the irises will need in the shipment.\n",
    "\n",
    "2). The 95% confidence interval ranges from about 5.72 cm to 5.98 cm. This means that in most cases, the sepal lengths will fall in this range. It's useful to consider this range to avoid any surprises with the size of the irises.\n",
    "\n",
    "3). Using this average and the confidence interval can help the company optimize space in the shipping containers. This can lead to cost savings and make sure the irises are packed efficiently.\n",
    "\n",
    "4). By using bootstrapping, we understand the variability better. So, it's a good idea to keep in mind that there might be slight variations, but they are within a predictable range."
   ]
  },
  {
   "cell_type": "markdown",
   "id": "466943e8",
   "metadata": {},
   "source": [
    "# Criteria\n",
    "\n",
    "|Criteria            |Complete           |Incomplete          |\n",
    "|--------------------|---------------|--------------|\n",
    "|Bootstrapping|All steps are done correctly and the answers are correct.|At least one step is done incorrectly leading to a wrong answer.|"
   ]
  },
  {
   "cell_type": "markdown",
   "id": "68b8a226",
   "metadata": {},
   "source": [
    "## Submission Information\n",
    "\n",
    "🚨 **Please review our [Assignment Submission Guide](https://github.com/UofT-DSI/onboarding/blob/main/onboarding_documents/submissions.md)** 🚨 for detailed instructions on how to format, branch, and submit your work. Following these guidelines is crucial for your submissions to be evaluated correctly.\n",
    "\n",
    "### Note:\n",
    "\n",
    "If you like, you may collaborate with others in the cohort. If you choose to do so, please indicate with whom you have worked with in your pull request by tagging their GitHub username. Separate submissions are required.\n",
    "\n",
    "\n",
    "### Submission Parameters:\n",
    "* Submission Due Date: `HH:MM AM/PM - DD/MM/YYYY`\n",
    "* The branch name for your repo should be: `assignment-3`\n",
    "* What to submit for this assignment:\n",
    "    * This Jupyter Notebook (assignment_3.ipynb) should be populated and should be the only change in your pull request.\n",
    "* What the pull request link should look like for this assignment: `https://github.com/<your_github_username>/applying_statistical_concepts/pull/<pr_id>`\n",
    "    * Open a private window in your browser. Copy and paste the link to your pull request into the address bar. Make sure you can see your pull request properly. This helps the technical facilitator and learning support staff review your submission easily.\n",
    "\n",
    "Checklist:\n",
    "- [X] Created a branch with the correct naming convention.\n",
    "- [X] Ensured that the repository is public.\n",
    "- [X] Reviewed the PR description guidelines and adhered to them.\n",
    "- [X] Verify that the link is accessible in a private browser window.\n",
    "\n",
    "If you encounter any difficulties or have questions, please don't hesitate to reach out to our team via our Slack at `#cohort-3-help`. Our Technical Facilitators and Learning Support staff are here to help you navigate any challenges.\n"
   ]
  }
 ],
 "metadata": {
  "kernelspec": {
   "display_name": "Python 3.10.4",
   "language": "python",
   "name": "python3"
  },
  "language_info": {
   "codemirror_mode": {
    "name": "ipython",
    "version": 3
   },
   "file_extension": ".py",
   "mimetype": "text/x-python",
   "name": "python",
   "nbconvert_exporter": "python",
   "pygments_lexer": "ipython3",
   "version": "3.9.15"
  },
  "vscode": {
   "interpreter": {
    "hash": "497a84dc8fec8cf8d24e7e87b6d954c9a18a327edc66feb9b9ea7e9e72cc5c7e"
   }
  }
 },
 "nbformat": 4,
 "nbformat_minor": 5
}
